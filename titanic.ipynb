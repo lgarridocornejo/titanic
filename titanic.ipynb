{
 "cells": [
  {
   "cell_type": "code",
   "execution_count": 1,
   "id": "da5ed64f-fd1b-425e-b937-c1f82fce050d",
   "metadata": {},
   "outputs": [],
   "source": [
    "import pandas as pd\n",
    "import numpy as np"
   ]
  },
  {
   "cell_type": "code",
   "execution_count": 2,
   "id": "f7fc5cc2-8bb9-498b-99c1-f105b7a7b23e",
   "metadata": {},
   "outputs": [],
   "source": [
    "import matplotlib.pyplot as plt\n",
    "import seaborn as sns\n",
    "%matplotlib inline \n",
    "sns.set(color_codes=True)"
   ]
  },
  {
   "cell_type": "code",
   "execution_count": 26,
   "id": "7c0a988b-e44b-4ae8-9de6-08466dbcd22a",
   "metadata": {},
   "outputs": [],
   "source": [
    "df_train = pd.read_csv('data/train.csv')\n",
    "df_test = pd.read_csv('data/test.csv', sep=';')\n",
    "df_edades = pd.read_csv('edades.csv')"
   ]
  },
  {
   "cell_type": "code",
   "execution_count": 27,
   "id": "a52e5b55-6610-4fd4-86a0-73ec254ef166",
   "metadata": {},
   "outputs": [
    {
     "name": "stdout",
     "output_type": "stream",
     "text": [
      "tamaño datos - entrenamiento: (891, 12), test: (418, 11)\n"
     ]
    }
   ],
   "source": [
    "print(f'tamaño datos - entrenamiento: {df_train.shape}, test: {df_test.shape}')"
   ]
  },
  {
   "cell_type": "code",
   "execution_count": 28,
   "id": "32e564aa-1727-4ff6-aeb2-428586d5c79e",
   "metadata": {},
   "outputs": [],
   "source": [
    "df_train['is_test'] = 1\n",
    "df_test['is_test'] = 0\n",
    "df_test['Survived'] = np.NaN"
   ]
  },
  {
   "cell_type": "code",
   "execution_count": 29,
   "id": "672af6f9-7d5a-46e0-9428-c2173dd0a1c4",
   "metadata": {},
   "outputs": [
    {
     "data": {
      "text/plain": [
       "Index(['PassengerId', 'Survived', 'Pclass', 'Name', 'Sex', 'Age', 'SibSp',\n",
       "       'Parch', 'Ticket', 'Fare', 'Cabin', 'Embarked', 'is_test'],\n",
       "      dtype='object')"
      ]
     },
     "execution_count": 29,
     "metadata": {},
     "output_type": "execute_result"
    }
   ],
   "source": [
    "df_train.columns"
   ]
  },
  {
   "cell_type": "code",
   "execution_count": 30,
   "id": "68bbdc17-09a8-4d27-8e02-7c313ed71fa8",
   "metadata": {},
   "outputs": [
    {
     "data": {
      "text/plain": [
       "Index(['PassengerId', 'Pclass', 'Name', 'Sex', 'Age', 'SibSp', 'Parch',\n",
       "       'Ticket', 'Fare', 'Cabin', 'Embarked', 'is_test', 'Survived'],\n",
       "      dtype='object')"
      ]
     },
     "execution_count": 30,
     "metadata": {},
     "output_type": "execute_result"
    }
   ],
   "source": [
    "df_test.columns"
   ]
  },
  {
   "cell_type": "code",
   "execution_count": 31,
   "id": "49d81853-5d96-47ea-8684-92c9d52401a7",
   "metadata": {},
   "outputs": [],
   "source": [
    "df_titanic = pd.concat([df_train,df_test])"
   ]
  },
  {
   "cell_type": "code",
   "execution_count": 32,
   "id": "bfb2cb9a-42bd-48de-9b43-5a7c47d14bc9",
   "metadata": {},
   "outputs": [
    {
     "data": {
      "text/plain": [
       "PassengerId    1309\n",
       "Survived        891\n",
       "Pclass         1309\n",
       "Name           1309\n",
       "Sex            1309\n",
       "Age            1046\n",
       "SibSp          1309\n",
       "Parch          1309\n",
       "Ticket         1309\n",
       "Fare           1308\n",
       "Cabin           295\n",
       "Embarked       1307\n",
       "is_test        1309\n",
       "edad            239\n",
       "dtype: int64"
      ]
     },
     "execution_count": 32,
     "metadata": {},
     "output_type": "execute_result"
    }
   ],
   "source": [
    "df_cd = pd.merge(df_titanic, df_edades, how='outer', on = 'PassengerId')\n",
    "df_cd.count()"
   ]
  },
  {
   "cell_type": "code",
   "execution_count": 33,
   "id": "57db6c3b-b141-4d2e-be28-839df5366b91",
   "metadata": {},
   "outputs": [
    {
     "data": {
      "text/html": [
       "<div>\n",
       "<style scoped>\n",
       "    .dataframe tbody tr th:only-of-type {\n",
       "        vertical-align: middle;\n",
       "    }\n",
       "\n",
       "    .dataframe tbody tr th {\n",
       "        vertical-align: top;\n",
       "    }\n",
       "\n",
       "    .dataframe thead th {\n",
       "        text-align: right;\n",
       "    }\n",
       "</style>\n",
       "<table border=\"1\" class=\"dataframe\">\n",
       "  <thead>\n",
       "    <tr style=\"text-align: right;\">\n",
       "      <th></th>\n",
       "      <th>PassengerId</th>\n",
       "      <th>Survived</th>\n",
       "      <th>Pclass</th>\n",
       "      <th>Name</th>\n",
       "      <th>Sex</th>\n",
       "      <th>Age</th>\n",
       "      <th>SibSp</th>\n",
       "      <th>Parch</th>\n",
       "      <th>Ticket</th>\n",
       "      <th>Fare</th>\n",
       "      <th>Cabin</th>\n",
       "      <th>Embarked</th>\n",
       "      <th>is_test</th>\n",
       "      <th>edad</th>\n",
       "    </tr>\n",
       "  </thead>\n",
       "  <tbody>\n",
       "    <tr>\n",
       "      <th>0</th>\n",
       "      <td>1</td>\n",
       "      <td>0.0</td>\n",
       "      <td>3</td>\n",
       "      <td>Braund, Mr. Owen Harris</td>\n",
       "      <td>male</td>\n",
       "      <td>22.0</td>\n",
       "      <td>1</td>\n",
       "      <td>0</td>\n",
       "      <td>A/5 21171</td>\n",
       "      <td>7.2500</td>\n",
       "      <td>NaN</td>\n",
       "      <td>S</td>\n",
       "      <td>1</td>\n",
       "      <td>NaN</td>\n",
       "    </tr>\n",
       "    <tr>\n",
       "      <th>1</th>\n",
       "      <td>2</td>\n",
       "      <td>1.0</td>\n",
       "      <td>1</td>\n",
       "      <td>Cumings, Mrs. John Bradley (Florence Briggs Th...</td>\n",
       "      <td>female</td>\n",
       "      <td>38.0</td>\n",
       "      <td>1</td>\n",
       "      <td>0</td>\n",
       "      <td>PC 17599</td>\n",
       "      <td>71.2833</td>\n",
       "      <td>C85</td>\n",
       "      <td>C</td>\n",
       "      <td>1</td>\n",
       "      <td>NaN</td>\n",
       "    </tr>\n",
       "    <tr>\n",
       "      <th>2</th>\n",
       "      <td>3</td>\n",
       "      <td>1.0</td>\n",
       "      <td>3</td>\n",
       "      <td>Heikkinen, Miss. Laina</td>\n",
       "      <td>female</td>\n",
       "      <td>26.0</td>\n",
       "      <td>0</td>\n",
       "      <td>0</td>\n",
       "      <td>STON/O2. 3101282</td>\n",
       "      <td>7.9250</td>\n",
       "      <td>NaN</td>\n",
       "      <td>S</td>\n",
       "      <td>1</td>\n",
       "      <td>NaN</td>\n",
       "    </tr>\n",
       "    <tr>\n",
       "      <th>3</th>\n",
       "      <td>4</td>\n",
       "      <td>1.0</td>\n",
       "      <td>1</td>\n",
       "      <td>Futrelle, Mrs. Jacques Heath (Lily May Peel)</td>\n",
       "      <td>female</td>\n",
       "      <td>35.0</td>\n",
       "      <td>1</td>\n",
       "      <td>0</td>\n",
       "      <td>113803</td>\n",
       "      <td>53.1000</td>\n",
       "      <td>C123</td>\n",
       "      <td>S</td>\n",
       "      <td>1</td>\n",
       "      <td>NaN</td>\n",
       "    </tr>\n",
       "    <tr>\n",
       "      <th>4</th>\n",
       "      <td>5</td>\n",
       "      <td>0.0</td>\n",
       "      <td>3</td>\n",
       "      <td>Allen, Mr. William Henry</td>\n",
       "      <td>male</td>\n",
       "      <td>35.0</td>\n",
       "      <td>0</td>\n",
       "      <td>0</td>\n",
       "      <td>373450</td>\n",
       "      <td>8.0500</td>\n",
       "      <td>NaN</td>\n",
       "      <td>S</td>\n",
       "      <td>1</td>\n",
       "      <td>NaN</td>\n",
       "    </tr>\n",
       "  </tbody>\n",
       "</table>\n",
       "</div>"
      ],
      "text/plain": [
       "   PassengerId  Survived  Pclass  \\\n",
       "0            1       0.0       3   \n",
       "1            2       1.0       1   \n",
       "2            3       1.0       3   \n",
       "3            4       1.0       1   \n",
       "4            5       0.0       3   \n",
       "\n",
       "                                                Name     Sex   Age  SibSp  \\\n",
       "0                            Braund, Mr. Owen Harris    male  22.0      1   \n",
       "1  Cumings, Mrs. John Bradley (Florence Briggs Th...  female  38.0      1   \n",
       "2                             Heikkinen, Miss. Laina  female  26.0      0   \n",
       "3       Futrelle, Mrs. Jacques Heath (Lily May Peel)  female  35.0      1   \n",
       "4                           Allen, Mr. William Henry    male  35.0      0   \n",
       "\n",
       "   Parch            Ticket     Fare Cabin Embarked  is_test  edad  \n",
       "0      0         A/5 21171   7.2500   NaN        S        1   NaN  \n",
       "1      0          PC 17599  71.2833   C85        C        1   NaN  \n",
       "2      0  STON/O2. 3101282   7.9250   NaN        S        1   NaN  \n",
       "3      0            113803  53.1000  C123        S        1   NaN  \n",
       "4      0            373450   8.0500   NaN        S        1   NaN  "
      ]
     },
     "execution_count": 33,
     "metadata": {},
     "output_type": "execute_result"
    }
   ],
   "source": [
    "df_cd.head()"
   ]
  },
  {
   "cell_type": "code",
   "execution_count": 22,
   "id": "7c64b1d1-887b-4cb1-abef-322143402f2d",
   "metadata": {},
   "outputs": [
    {
     "name": "stdout",
     "output_type": "stream",
     "text": [
      "tamaño datos - titanic: (1309, 13)\n"
     ]
    }
   ],
   "source": [
    "print(f'tamaño datos - titanic: {df_titanic.shape}')"
   ]
  },
  {
   "cell_type": "code",
   "execution_count": 23,
   "id": "4b9d8ab7-aaaf-4d10-a130-d9e6b4f23285",
   "metadata": {},
   "outputs": [],
   "source": [
    "#df_titanic.columns"
   ]
  },
  {
   "cell_type": "markdown",
   "id": "3eb558a8-71c4-4bd3-aa97-8b7e047c331e",
   "metadata": {},
   "source": [
    "column_sp = {\n",
    "'Pclass'   :'Clase',\n",
    "'SibSp'   :'hermcony',\n",
    "'Parch'  :'padhijos',\n",
    "'Fare'  :'Tarifa'}"
   ]
  },
  {
   "cell_type": "markdown",
   "id": "6d57a2f9-d35e-47fa-b537-bd74149813dd",
   "metadata": {},
   "source": [
    "df_train.rename(column_sp,axis=1,inplace=True)\n",
    "df_titanic.rename(column_sp,axis=1,inplace=True)"
   ]
  },
  {
   "cell_type": "code",
   "execution_count": 24,
   "id": "a48ca88c-fb1e-4b8c-8236-b2942f988312",
   "metadata": {},
   "outputs": [
    {
     "data": {
      "text/plain": [
       "PassengerId    1309\n",
       "Survived        891\n",
       "Pclass         1309\n",
       "Name           1309\n",
       "Sex            1309\n",
       "Age            1046\n",
       "SibSp          1309\n",
       "Parch          1309\n",
       "Ticket         1309\n",
       "Fare           1308\n",
       "Cabin           295\n",
       "Embarked       1307\n",
       "is_test        1309\n",
       "dtype: int64"
      ]
     },
     "execution_count": 24,
     "metadata": {},
     "output_type": "execute_result"
    }
   ],
   "source": [
    "df_titanic.count()"
   ]
  },
  {
   "cell_type": "code",
   "execution_count": null,
   "id": "f1332ede-f952-42c6-b582-b3f8c92f824d",
   "metadata": {},
   "outputs": [],
   "source": [
    "df_train.count()\n",
    "#df_train.info()"
   ]
  },
  {
   "cell_type": "code",
   "execution_count": null,
   "id": "fa7921a5-d092-4651-8c2e-2f7cf1f62d5d",
   "metadata": {},
   "outputs": [],
   "source": [
    "df_test.count()"
   ]
  },
  {
   "cell_type": "code",
   "execution_count": 10,
   "id": "0e3d8900-366b-4faa-8e6e-f6bb28213237",
   "metadata": {},
   "outputs": [
    {
     "data": {
      "text/html": [
       "<div>\n",
       "<style scoped>\n",
       "    .dataframe tbody tr th:only-of-type {\n",
       "        vertical-align: middle;\n",
       "    }\n",
       "\n",
       "    .dataframe tbody tr th {\n",
       "        vertical-align: top;\n",
       "    }\n",
       "\n",
       "    .dataframe thead th {\n",
       "        text-align: right;\n",
       "    }\n",
       "</style>\n",
       "<table border=\"1\" class=\"dataframe\">\n",
       "  <thead>\n",
       "    <tr style=\"text-align: right;\">\n",
       "      <th></th>\n",
       "      <th>PassengerId</th>\n",
       "      <th>Survived</th>\n",
       "      <th>Pclass</th>\n",
       "      <th>Name</th>\n",
       "      <th>Sex</th>\n",
       "      <th>Age</th>\n",
       "      <th>SibSp</th>\n",
       "      <th>Parch</th>\n",
       "      <th>Ticket</th>\n",
       "      <th>Fare</th>\n",
       "      <th>Cabin</th>\n",
       "      <th>Embarked</th>\n",
       "      <th>is_test</th>\n",
       "      <th>PassengerId;Pclass;Name;Sex;Age;SibSp;Parch;Ticket;Fare;Cabin;Embarked</th>\n",
       "    </tr>\n",
       "  </thead>\n",
       "  <tbody>\n",
       "    <tr>\n",
       "      <th>0</th>\n",
       "      <td>1.0</td>\n",
       "      <td>0.0</td>\n",
       "      <td>3.0</td>\n",
       "      <td>Braund, Mr. Owen Harris</td>\n",
       "      <td>male</td>\n",
       "      <td>22.0</td>\n",
       "      <td>1.0</td>\n",
       "      <td>0.0</td>\n",
       "      <td>A/5 21171</td>\n",
       "      <td>7.2500</td>\n",
       "      <td>NaN</td>\n",
       "      <td>S</td>\n",
       "      <td>1</td>\n",
       "      <td>NaN</td>\n",
       "    </tr>\n",
       "    <tr>\n",
       "      <th>1</th>\n",
       "      <td>2.0</td>\n",
       "      <td>1.0</td>\n",
       "      <td>1.0</td>\n",
       "      <td>Cumings, Mrs. John Bradley (Florence Briggs Th...</td>\n",
       "      <td>female</td>\n",
       "      <td>38.0</td>\n",
       "      <td>1.0</td>\n",
       "      <td>0.0</td>\n",
       "      <td>PC 17599</td>\n",
       "      <td>71.2833</td>\n",
       "      <td>C85</td>\n",
       "      <td>C</td>\n",
       "      <td>1</td>\n",
       "      <td>NaN</td>\n",
       "    </tr>\n",
       "    <tr>\n",
       "      <th>2</th>\n",
       "      <td>3.0</td>\n",
       "      <td>1.0</td>\n",
       "      <td>3.0</td>\n",
       "      <td>Heikkinen, Miss. Laina</td>\n",
       "      <td>female</td>\n",
       "      <td>26.0</td>\n",
       "      <td>0.0</td>\n",
       "      <td>0.0</td>\n",
       "      <td>STON/O2. 3101282</td>\n",
       "      <td>7.9250</td>\n",
       "      <td>NaN</td>\n",
       "      <td>S</td>\n",
       "      <td>1</td>\n",
       "      <td>NaN</td>\n",
       "    </tr>\n",
       "    <tr>\n",
       "      <th>3</th>\n",
       "      <td>4.0</td>\n",
       "      <td>1.0</td>\n",
       "      <td>1.0</td>\n",
       "      <td>Futrelle, Mrs. Jacques Heath (Lily May Peel)</td>\n",
       "      <td>female</td>\n",
       "      <td>35.0</td>\n",
       "      <td>1.0</td>\n",
       "      <td>0.0</td>\n",
       "      <td>113803</td>\n",
       "      <td>53.1000</td>\n",
       "      <td>C123</td>\n",
       "      <td>S</td>\n",
       "      <td>1</td>\n",
       "      <td>NaN</td>\n",
       "    </tr>\n",
       "    <tr>\n",
       "      <th>4</th>\n",
       "      <td>5.0</td>\n",
       "      <td>0.0</td>\n",
       "      <td>3.0</td>\n",
       "      <td>Allen, Mr. William Henry</td>\n",
       "      <td>male</td>\n",
       "      <td>35.0</td>\n",
       "      <td>0.0</td>\n",
       "      <td>0.0</td>\n",
       "      <td>373450</td>\n",
       "      <td>8.0500</td>\n",
       "      <td>NaN</td>\n",
       "      <td>S</td>\n",
       "      <td>1</td>\n",
       "      <td>NaN</td>\n",
       "    </tr>\n",
       "  </tbody>\n",
       "</table>\n",
       "</div>"
      ],
      "text/plain": [
       "   PassengerId  Survived  Pclass  \\\n",
       "0          1.0       0.0     3.0   \n",
       "1          2.0       1.0     1.0   \n",
       "2          3.0       1.0     3.0   \n",
       "3          4.0       1.0     1.0   \n",
       "4          5.0       0.0     3.0   \n",
       "\n",
       "                                                Name     Sex   Age  SibSp  \\\n",
       "0                            Braund, Mr. Owen Harris    male  22.0    1.0   \n",
       "1  Cumings, Mrs. John Bradley (Florence Briggs Th...  female  38.0    1.0   \n",
       "2                             Heikkinen, Miss. Laina  female  26.0    0.0   \n",
       "3       Futrelle, Mrs. Jacques Heath (Lily May Peel)  female  35.0    1.0   \n",
       "4                           Allen, Mr. William Henry    male  35.0    0.0   \n",
       "\n",
       "   Parch            Ticket     Fare Cabin Embarked  is_test  \\\n",
       "0    0.0         A/5 21171   7.2500   NaN        S        1   \n",
       "1    0.0          PC 17599  71.2833   C85        C        1   \n",
       "2    0.0  STON/O2. 3101282   7.9250   NaN        S        1   \n",
       "3    0.0            113803  53.1000  C123        S        1   \n",
       "4    0.0            373450   8.0500   NaN        S        1   \n",
       "\n",
       "  PassengerId;Pclass;Name;Sex;Age;SibSp;Parch;Ticket;Fare;Cabin;Embarked  \n",
       "0                                                NaN                      \n",
       "1                                                NaN                      \n",
       "2                                                NaN                      \n",
       "3                                                NaN                      \n",
       "4                                                NaN                      "
      ]
     },
     "execution_count": 10,
     "metadata": {},
     "output_type": "execute_result"
    }
   ],
   "source": [
    "df_titanic.head()"
   ]
  },
  {
   "cell_type": "code",
   "execution_count": null,
   "id": "f37302b2-43fe-49cc-b0ad-5bb14a357eb5",
   "metadata": {},
   "outputs": [],
   "source": [
    "#df_titanic['Pclass'] = df_titanic['Pclass'].astype('category')"
   ]
  },
  {
   "cell_type": "code",
   "execution_count": null,
   "id": "0429b7d0-19ba-4d45-928f-83b670831cdd",
   "metadata": {},
   "outputs": [],
   "source": [
    "df_titanic.dtypes"
   ]
  },
  {
   "cell_type": "code",
   "execution_count": null,
   "id": "b44a7b3e-f3cc-46c0-8462-c87e98f6e1dc",
   "metadata": {},
   "outputs": [],
   "source": [
    "columns = ['Survived','Clase','Age','hermcony','padhijos','Tarifa']\n",
    "df_corr = df_train[columns].copy()"
   ]
  },
  {
   "cell_type": "code",
   "execution_count": null,
   "id": "dd6d9d52-307b-450f-a776-e4f3365c3218",
   "metadata": {},
   "outputs": [],
   "source": [
    "df_corr.head()"
   ]
  },
  {
   "cell_type": "markdown",
   "id": "9187ccf4-06ea-456f-8f85-73fb76991b82",
   "metadata": {},
   "source": [
    "## Correlacion"
   ]
  },
  {
   "cell_type": "code",
   "execution_count": null,
   "id": "e9ddfb59-9e14-40b4-86a3-35cb6b847afe",
   "metadata": {},
   "outputs": [],
   "source": [
    "corr_train = df_corr.corr()\n",
    "corr_train"
   ]
  },
  {
   "cell_type": "code",
   "execution_count": null,
   "id": "35473dca-b896-4b62-b940-b150ee54ffd4",
   "metadata": {},
   "outputs": [],
   "source": [
    "f, ax = plt.subplots(figsize=(10, 8))\n",
    "#corr = df.corr()\n",
    "sns.heatmap(corr_train,\n",
    "            cmap='coolwarm',\n",
    "            annot=True,\n",
    "            xticklabels=corr_train.columns.values,\n",
    "            yticklabels=corr_train.columns.values)"
   ]
  },
  {
   "cell_type": "code",
   "execution_count": null,
   "id": "6d081a98-e266-4c6b-b9df-f655e65e3e6e",
   "metadata": {},
   "outputs": [],
   "source": [
    "sns.pairplot(df_train,hue='Survived')"
   ]
  },
  {
   "cell_type": "code",
   "execution_count": null,
   "id": "ed4cc272-0a13-4096-90b9-f95871f40cb5",
   "metadata": {},
   "outputs": [],
   "source": [
    "corr_titanic = df_titanic.corr()\n",
    "corr_titanic"
   ]
  },
  {
   "cell_type": "code",
   "execution_count": null,
   "id": "917c3245-7ea1-4007-a110-3dbbc0a9b4d7",
   "metadata": {},
   "outputs": [],
   "source": [
    "f, ax = plt.subplots(figsize=(10, 8))\n",
    "#corr = df.corr()\n",
    "sns.heatmap(corr_titanic,\n",
    "            cmap='coolwarm',\n",
    "            annot=True,\n",
    "            xticklabels=corr_titanic.columns.values,\n",
    "            yticklabels=corr_titanic.columns.values)"
   ]
  },
  {
   "cell_type": "code",
   "execution_count": null,
   "id": "b4a5ea0e-e144-4ac2-b126-431750a41040",
   "metadata": {},
   "outputs": [],
   "source": []
  }
 ],
 "metadata": {
  "kernelspec": {
   "display_name": "Python 3",
   "language": "python",
   "name": "python3"
  },
  "language_info": {
   "codemirror_mode": {
    "name": "ipython",
    "version": 3
   },
   "file_extension": ".py",
   "mimetype": "text/x-python",
   "name": "python",
   "nbconvert_exporter": "python",
   "pygments_lexer": "ipython3",
   "version": "3.8.8"
  }
 },
 "nbformat": 4,
 "nbformat_minor": 5
}
