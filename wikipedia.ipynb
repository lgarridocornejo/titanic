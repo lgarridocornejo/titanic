{
 "cells": [
  {
   "cell_type": "code",
   "execution_count": 65,
   "id": "e3a44aa0-f218-4068-9df1-ff46f47b9da7",
   "metadata": {},
   "outputs": [],
   "source": [
    "import pandas as pd"
   ]
  },
  {
   "cell_type": "code",
   "execution_count": 92,
   "id": "051928df-c136-4d9a-88f3-9eeb04dcbf97",
   "metadata": {},
   "outputs": [],
   "source": [
    "pasajeros = pd.read_html('https://en.wikipedia.org/wiki/Passengers_of_the_Titanic')"
   ]
  },
  {
   "cell_type": "markdown",
   "id": "112ed5e4-e21b-4b72-a1c3-a227bb8d0718",
   "metadata": {},
   "source": [
    "i = 4\n",
    "#pasajeros"
   ]
  },
  {
   "cell_type": "markdown",
   "id": "e1bfc769-99d4-4217-925a-e54948b17939",
   "metadata": {},
   "source": [
    "pasajeros[i].head()"
   ]
  },
  {
   "cell_type": "markdown",
   "id": "3a1119e7-a0d9-446f-a0bd-af3dec84a825",
   "metadata": {},
   "source": [
    "pasajeros[i].tail()"
   ]
  },
  {
   "cell_type": "code",
   "execution_count": 93,
   "id": "741ae08f-3e27-4b30-9a99-41ccfa9830b5",
   "metadata": {},
   "outputs": [
    {
     "name": "stdout",
     "output_type": "stream",
     "text": [
      "Index(['Name', 'Age', 'Hometown', 'Boarded', 'Destination', 'Lifeboat',\n",
      "       'Body'],\n",
      "      dtype='object')\n",
      "(326, 7)\n",
      "Index(['Name', 'Age', 'Hometown', 'Boarded', 'Destination', 'Lifeboat',\n",
      "       'Body'],\n",
      "      dtype='object')\n",
      "(278, 7)\n",
      "Index(['Name', 'age', 'Hometown', 'Home country', 'Boarded', 'Destination',\n",
      "       'Lifeboat', 'Body'],\n",
      "      dtype='object')\n",
      "(708, 8)\n"
     ]
    }
   ],
   "source": [
    "for i in range(1,4,1):\n",
    "    print(pasajeros[i].columns)\n",
    "    print(pasajeros[i].shape)"
   ]
  },
  {
   "cell_type": "markdown",
   "id": "67982770-88e3-43b4-bc69-4f2859a4949c",
   "metadata": {},
   "source": [
    "columnas = ('Hometown', 'Boarded', 'Destination', 'Lifeboat')"
   ]
  },
  {
   "cell_type": "code",
   "execution_count": 94,
   "id": "c629dc88-0486-47c6-aec3-7dbb4234238c",
   "metadata": {},
   "outputs": [],
   "source": [
    "for j in range(1,4,1):\n",
    "    df = pasajeros[j]\n",
    "    df.drop(['Hometown', 'Boarded', 'Destination', 'Lifeboat','Body'], inplace=True, axis=1) #df.pop('Hometown', 'Boarded', 'Destination', 'Lifeboat')\n",
    "    if j==3:\n",
    "        df.pop('Home country')\n",
    "    df['clase'] = j"
   ]
  },
  {
   "cell_type": "code",
   "execution_count": 95,
   "id": "e1c5c209-0442-49cf-9f35-d9f947709d0e",
   "metadata": {},
   "outputs": [
    {
     "data": {
      "text/html": [
       "<div>\n",
       "<style scoped>\n",
       "    .dataframe tbody tr th:only-of-type {\n",
       "        vertical-align: middle;\n",
       "    }\n",
       "\n",
       "    .dataframe tbody tr th {\n",
       "        vertical-align: top;\n",
       "    }\n",
       "\n",
       "    .dataframe thead th {\n",
       "        text-align: right;\n",
       "    }\n",
       "</style>\n",
       "<table border=\"1\" class=\"dataframe\">\n",
       "  <thead>\n",
       "    <tr style=\"text-align: right;\">\n",
       "      <th></th>\n",
       "      <th>Name</th>\n",
       "      <th>age</th>\n",
       "      <th>clase</th>\n",
       "    </tr>\n",
       "  </thead>\n",
       "  <tbody>\n",
       "    <tr>\n",
       "      <th>0</th>\n",
       "      <td>Abbing, Mr. Anthony</td>\n",
       "      <td>40</td>\n",
       "      <td>3</td>\n",
       "    </tr>\n",
       "    <tr>\n",
       "      <th>1</th>\n",
       "      <td>Abbott, Mrs. Rhoda Mary (née Hunt)</td>\n",
       "      <td>39</td>\n",
       "      <td>3</td>\n",
       "    </tr>\n",
       "    <tr>\n",
       "      <th>2</th>\n",
       "      <td>Abbott, Mr. Rossmore Edward</td>\n",
       "      <td>16</td>\n",
       "      <td>3</td>\n",
       "    </tr>\n",
       "    <tr>\n",
       "      <th>3</th>\n",
       "      <td>Abbott, Mr. Eugene Joseph</td>\n",
       "      <td>14</td>\n",
       "      <td>3</td>\n",
       "    </tr>\n",
       "    <tr>\n",
       "      <th>4</th>\n",
       "      <td>Abd al-Khaliq, Mr. Farid Qasim Husayn</td>\n",
       "      <td>18</td>\n",
       "      <td>3</td>\n",
       "    </tr>\n",
       "    <tr>\n",
       "      <th>...</th>\n",
       "      <td>...</td>\n",
       "      <td>...</td>\n",
       "      <td>...</td>\n",
       "    </tr>\n",
       "    <tr>\n",
       "      <th>703</th>\n",
       "      <td>Youssef, Mr. Gerios (Sam'aan)</td>\n",
       "      <td>45</td>\n",
       "      <td>3</td>\n",
       "    </tr>\n",
       "    <tr>\n",
       "      <th>704</th>\n",
       "      <td>Zajib Qiyamah, Miss Adal \"Jane\"</td>\n",
       "      <td>15</td>\n",
       "      <td>3</td>\n",
       "    </tr>\n",
       "    <tr>\n",
       "      <th>705</th>\n",
       "      <td>Zakarian, Mr. Haroutyun Der</td>\n",
       "      <td>27</td>\n",
       "      <td>3</td>\n",
       "    </tr>\n",
       "    <tr>\n",
       "      <th>706</th>\n",
       "      <td>Zakarian, Mr. Mapri Der</td>\n",
       "      <td>22</td>\n",
       "      <td>3</td>\n",
       "    </tr>\n",
       "    <tr>\n",
       "      <th>707</th>\n",
       "      <td>Zimmermann, Mr. Leo</td>\n",
       "      <td>29</td>\n",
       "      <td>3</td>\n",
       "    </tr>\n",
       "  </tbody>\n",
       "</table>\n",
       "<p>708 rows × 3 columns</p>\n",
       "</div>"
      ],
      "text/plain": [
       "                                      Name age  clase\n",
       "0                      Abbing, Mr. Anthony  40      3\n",
       "1       Abbott, Mrs. Rhoda Mary (née Hunt)  39      3\n",
       "2              Abbott, Mr. Rossmore Edward  16      3\n",
       "3                Abbott, Mr. Eugene Joseph  14      3\n",
       "4    Abd al-Khaliq, Mr. Farid Qasim Husayn  18      3\n",
       "..                                     ...  ..    ...\n",
       "703          Youssef, Mr. Gerios (Sam'aan)  45      3\n",
       "704        Zajib Qiyamah, Miss Adal \"Jane\"  15      3\n",
       "705            Zakarian, Mr. Haroutyun Der  27      3\n",
       "706                Zakarian, Mr. Mapri Der  22      3\n",
       "707                    Zimmermann, Mr. Leo  29      3\n",
       "\n",
       "[708 rows x 3 columns]"
      ]
     },
     "execution_count": 95,
     "metadata": {},
     "output_type": "execute_result"
    }
   ],
   "source": [
    "df"
   ]
  },
  {
   "cell_type": "code",
   "execution_count": 76,
   "id": "b1072a08-e100-4893-bc2b-3b50edc451b7",
   "metadata": {},
   "outputs": [
    {
     "data": {
      "text/plain": [
       "Name           694\n",
       "age            708\n",
       "Hometown       669\n",
       "Boarded        708\n",
       "Destination    707\n",
       "Lifeboat       182\n",
       "Body            62\n",
       "clase          708\n",
       "dtype: int64"
      ]
     },
     "execution_count": 76,
     "metadata": {},
     "output_type": "execute_result"
    }
   ],
   "source": [
    "df.count()"
   ]
  },
  {
   "cell_type": "code",
   "execution_count": 77,
   "id": "df33b580-6698-4fad-94b3-4650b5c16541",
   "metadata": {},
   "outputs": [
    {
     "data": {
      "text/plain": [
       "Name           object\n",
       "age            object\n",
       "Hometown       object\n",
       "Boarded        object\n",
       "Destination    object\n",
       "Lifeboat       object\n",
       "Body           object\n",
       "clase           int64\n",
       "dtype: object"
      ]
     },
     "execution_count": 77,
     "metadata": {},
     "output_type": "execute_result"
    }
   ],
   "source": [
    "df.dtypes"
   ]
  },
  {
   "cell_type": "code",
   "execution_count": null,
   "id": "3bf890a0-6eb6-49ec-b45b-89188d1cb09f",
   "metadata": {},
   "outputs": [],
   "source": []
  }
 ],
 "metadata": {
  "kernelspec": {
   "display_name": "Python 3",
   "language": "python",
   "name": "python3"
  },
  "language_info": {
   "codemirror_mode": {
    "name": "ipython",
    "version": 3
   },
   "file_extension": ".py",
   "mimetype": "text/x-python",
   "name": "python",
   "nbconvert_exporter": "python",
   "pygments_lexer": "ipython3",
   "version": "3.8.8"
  }
 },
 "nbformat": 4,
 "nbformat_minor": 5
}
